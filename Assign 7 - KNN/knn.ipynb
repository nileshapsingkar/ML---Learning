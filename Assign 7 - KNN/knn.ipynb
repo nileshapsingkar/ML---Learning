{
 "cells": [
  {
   "cell_type": "markdown",
   "metadata": {},
   "source": [
    "KNN\n",
    "\n",
    "preprocess\n",
    "\n",
    "checking values of model for diff k values \n",
    "1 - 15 \n",
    "\n",
    "test acc and train acc with graph\n",
    "\n",
    "changing diff parameters, diff algos\n",
    "\n",
    "classification report, consusion mat\n",
    "decision boundarries\n"
   ]
  },
  {
   "cell_type": "code",
   "execution_count": 1,
   "metadata": {},
   "outputs": [],
   "source": [
    "import numpy as np\n",
    "import pandas as pd\n",
    "import seaborn as sns\n",
    "import matplotlib.pyplot as plt"
   ]
  },
  {
   "cell_type": "code",
   "execution_count": 2,
   "metadata": {},
   "outputs": [],
   "source": [
    "df = pd.read_csv(\"D:\\MIT ADT\\Third Year - Sem 2\\ML LAB\\Assign 7 - KNN\\winequalityN.csv\")"
   ]
  },
  {
   "cell_type": "code",
   "execution_count": 3,
   "metadata": {},
   "outputs": [
    {
     "data": {
      "text/html": [
       "<div>\n",
       "<style scoped>\n",
       "    .dataframe tbody tr th:only-of-type {\n",
       "        vertical-align: middle;\n",
       "    }\n",
       "\n",
       "    .dataframe tbody tr th {\n",
       "        vertical-align: top;\n",
       "    }\n",
       "\n",
       "    .dataframe thead th {\n",
       "        text-align: right;\n",
       "    }\n",
       "</style>\n",
       "<table border=\"1\" class=\"dataframe\">\n",
       "  <thead>\n",
       "    <tr style=\"text-align: right;\">\n",
       "      <th></th>\n",
       "      <th>type</th>\n",
       "      <th>fixed acidity</th>\n",
       "      <th>volatile acidity</th>\n",
       "      <th>citric acid</th>\n",
       "      <th>residual sugar</th>\n",
       "      <th>chlorides</th>\n",
       "      <th>free sulfur dioxide</th>\n",
       "      <th>total sulfur dioxide</th>\n",
       "      <th>density</th>\n",
       "      <th>pH</th>\n",
       "      <th>sulphates</th>\n",
       "      <th>alcohol</th>\n",
       "      <th>quality</th>\n",
       "    </tr>\n",
       "  </thead>\n",
       "  <tbody>\n",
       "    <tr>\n",
       "      <th>0</th>\n",
       "      <td>white</td>\n",
       "      <td>7.0</td>\n",
       "      <td>0.27</td>\n",
       "      <td>0.36</td>\n",
       "      <td>20.7</td>\n",
       "      <td>0.045</td>\n",
       "      <td>45.0</td>\n",
       "      <td>170.0</td>\n",
       "      <td>1.0010</td>\n",
       "      <td>3.00</td>\n",
       "      <td>0.45</td>\n",
       "      <td>8.8</td>\n",
       "      <td>6</td>\n",
       "    </tr>\n",
       "    <tr>\n",
       "      <th>1</th>\n",
       "      <td>white</td>\n",
       "      <td>6.3</td>\n",
       "      <td>0.30</td>\n",
       "      <td>0.34</td>\n",
       "      <td>1.6</td>\n",
       "      <td>0.049</td>\n",
       "      <td>14.0</td>\n",
       "      <td>132.0</td>\n",
       "      <td>0.9940</td>\n",
       "      <td>3.30</td>\n",
       "      <td>0.49</td>\n",
       "      <td>9.5</td>\n",
       "      <td>6</td>\n",
       "    </tr>\n",
       "    <tr>\n",
       "      <th>2</th>\n",
       "      <td>white</td>\n",
       "      <td>8.1</td>\n",
       "      <td>0.28</td>\n",
       "      <td>0.40</td>\n",
       "      <td>6.9</td>\n",
       "      <td>0.050</td>\n",
       "      <td>30.0</td>\n",
       "      <td>97.0</td>\n",
       "      <td>0.9951</td>\n",
       "      <td>3.26</td>\n",
       "      <td>0.44</td>\n",
       "      <td>10.1</td>\n",
       "      <td>6</td>\n",
       "    </tr>\n",
       "    <tr>\n",
       "      <th>3</th>\n",
       "      <td>white</td>\n",
       "      <td>7.2</td>\n",
       "      <td>0.23</td>\n",
       "      <td>0.32</td>\n",
       "      <td>8.5</td>\n",
       "      <td>0.058</td>\n",
       "      <td>47.0</td>\n",
       "      <td>186.0</td>\n",
       "      <td>0.9956</td>\n",
       "      <td>3.19</td>\n",
       "      <td>0.40</td>\n",
       "      <td>9.9</td>\n",
       "      <td>6</td>\n",
       "    </tr>\n",
       "    <tr>\n",
       "      <th>4</th>\n",
       "      <td>white</td>\n",
       "      <td>7.2</td>\n",
       "      <td>0.23</td>\n",
       "      <td>0.32</td>\n",
       "      <td>8.5</td>\n",
       "      <td>0.058</td>\n",
       "      <td>47.0</td>\n",
       "      <td>186.0</td>\n",
       "      <td>0.9956</td>\n",
       "      <td>3.19</td>\n",
       "      <td>0.40</td>\n",
       "      <td>9.9</td>\n",
       "      <td>6</td>\n",
       "    </tr>\n",
       "  </tbody>\n",
       "</table>\n",
       "</div>"
      ],
      "text/plain": [
       "    type  fixed acidity  volatile acidity  citric acid  residual sugar  \\\n",
       "0  white            7.0              0.27         0.36            20.7   \n",
       "1  white            6.3              0.30         0.34             1.6   \n",
       "2  white            8.1              0.28         0.40             6.9   \n",
       "3  white            7.2              0.23         0.32             8.5   \n",
       "4  white            7.2              0.23         0.32             8.5   \n",
       "\n",
       "   chlorides  free sulfur dioxide  total sulfur dioxide  density    pH  \\\n",
       "0      0.045                 45.0                 170.0   1.0010  3.00   \n",
       "1      0.049                 14.0                 132.0   0.9940  3.30   \n",
       "2      0.050                 30.0                  97.0   0.9951  3.26   \n",
       "3      0.058                 47.0                 186.0   0.9956  3.19   \n",
       "4      0.058                 47.0                 186.0   0.9956  3.19   \n",
       "\n",
       "   sulphates  alcohol  quality  \n",
       "0       0.45      8.8        6  \n",
       "1       0.49      9.5        6  \n",
       "2       0.44     10.1        6  \n",
       "3       0.40      9.9        6  \n",
       "4       0.40      9.9        6  "
      ]
     },
     "execution_count": 3,
     "metadata": {},
     "output_type": "execute_result"
    }
   ],
   "source": [
    "df.head()"
   ]
  },
  {
   "cell_type": "code",
   "execution_count": 4,
   "metadata": {},
   "outputs": [
    {
     "data": {
      "text/plain": [
       "type                     0\n",
       "fixed acidity           10\n",
       "volatile acidity         8\n",
       "citric acid              3\n",
       "residual sugar           2\n",
       "chlorides                2\n",
       "free sulfur dioxide      0\n",
       "total sulfur dioxide     0\n",
       "density                  0\n",
       "pH                       9\n",
       "sulphates                4\n",
       "alcohol                  0\n",
       "quality                  0\n",
       "dtype: int64"
      ]
     },
     "execution_count": 4,
     "metadata": {},
     "output_type": "execute_result"
    }
   ],
   "source": [
    "df.isna().sum()"
   ]
  },
  {
   "cell_type": "code",
   "execution_count": 5,
   "metadata": {},
   "outputs": [
    {
     "data": {
      "text/plain": [
       "1168"
      ]
     },
     "execution_count": 5,
     "metadata": {},
     "output_type": "execute_result"
    }
   ],
   "source": [
    "df.duplicated().sum()"
   ]
  },
  {
   "cell_type": "code",
   "execution_count": 6,
   "metadata": {},
   "outputs": [],
   "source": [
    "df = df.drop_duplicates()"
   ]
  },
  {
   "cell_type": "code",
   "execution_count": 7,
   "metadata": {},
   "outputs": [
    {
     "data": {
      "text/plain": [
       "0"
      ]
     },
     "execution_count": 7,
     "metadata": {},
     "output_type": "execute_result"
    }
   ],
   "source": [
    "df.duplicated().sum()"
   ]
  },
  {
   "cell_type": "code",
   "execution_count": 8,
   "metadata": {},
   "outputs": [
    {
     "data": {
      "text/html": [
       "<div>\n",
       "<style scoped>\n",
       "    .dataframe tbody tr th:only-of-type {\n",
       "        vertical-align: middle;\n",
       "    }\n",
       "\n",
       "    .dataframe tbody tr th {\n",
       "        vertical-align: top;\n",
       "    }\n",
       "\n",
       "    .dataframe thead th {\n",
       "        text-align: right;\n",
       "    }\n",
       "</style>\n",
       "<table border=\"1\" class=\"dataframe\">\n",
       "  <thead>\n",
       "    <tr style=\"text-align: right;\">\n",
       "      <th></th>\n",
       "      <th>type</th>\n",
       "      <th>fixed acidity</th>\n",
       "      <th>volatile acidity</th>\n",
       "      <th>citric acid</th>\n",
       "      <th>residual sugar</th>\n",
       "      <th>chlorides</th>\n",
       "      <th>free sulfur dioxide</th>\n",
       "      <th>total sulfur dioxide</th>\n",
       "      <th>density</th>\n",
       "      <th>pH</th>\n",
       "      <th>sulphates</th>\n",
       "      <th>alcohol</th>\n",
       "      <th>quality</th>\n",
       "    </tr>\n",
       "  </thead>\n",
       "  <tbody>\n",
       "    <tr>\n",
       "      <th>0</th>\n",
       "      <td>white</td>\n",
       "      <td>7.0</td>\n",
       "      <td>0.27</td>\n",
       "      <td>0.36</td>\n",
       "      <td>20.7</td>\n",
       "      <td>0.045</td>\n",
       "      <td>45.0</td>\n",
       "      <td>170.0</td>\n",
       "      <td>1.0010</td>\n",
       "      <td>3.00</td>\n",
       "      <td>0.45</td>\n",
       "      <td>8.8</td>\n",
       "      <td>6</td>\n",
       "    </tr>\n",
       "    <tr>\n",
       "      <th>1</th>\n",
       "      <td>white</td>\n",
       "      <td>6.3</td>\n",
       "      <td>0.30</td>\n",
       "      <td>0.34</td>\n",
       "      <td>1.6</td>\n",
       "      <td>0.049</td>\n",
       "      <td>14.0</td>\n",
       "      <td>132.0</td>\n",
       "      <td>0.9940</td>\n",
       "      <td>3.30</td>\n",
       "      <td>0.49</td>\n",
       "      <td>9.5</td>\n",
       "      <td>6</td>\n",
       "    </tr>\n",
       "    <tr>\n",
       "      <th>2</th>\n",
       "      <td>white</td>\n",
       "      <td>8.1</td>\n",
       "      <td>0.28</td>\n",
       "      <td>0.40</td>\n",
       "      <td>6.9</td>\n",
       "      <td>0.050</td>\n",
       "      <td>30.0</td>\n",
       "      <td>97.0</td>\n",
       "      <td>0.9951</td>\n",
       "      <td>3.26</td>\n",
       "      <td>0.44</td>\n",
       "      <td>10.1</td>\n",
       "      <td>6</td>\n",
       "    </tr>\n",
       "    <tr>\n",
       "      <th>3</th>\n",
       "      <td>white</td>\n",
       "      <td>7.2</td>\n",
       "      <td>0.23</td>\n",
       "      <td>0.32</td>\n",
       "      <td>8.5</td>\n",
       "      <td>0.058</td>\n",
       "      <td>47.0</td>\n",
       "      <td>186.0</td>\n",
       "      <td>0.9956</td>\n",
       "      <td>3.19</td>\n",
       "      <td>0.40</td>\n",
       "      <td>9.9</td>\n",
       "      <td>6</td>\n",
       "    </tr>\n",
       "    <tr>\n",
       "      <th>6</th>\n",
       "      <td>white</td>\n",
       "      <td>6.2</td>\n",
       "      <td>0.32</td>\n",
       "      <td>0.16</td>\n",
       "      <td>7.0</td>\n",
       "      <td>0.045</td>\n",
       "      <td>30.0</td>\n",
       "      <td>136.0</td>\n",
       "      <td>0.9949</td>\n",
       "      <td>3.18</td>\n",
       "      <td>0.47</td>\n",
       "      <td>9.6</td>\n",
       "      <td>6</td>\n",
       "    </tr>\n",
       "  </tbody>\n",
       "</table>\n",
       "</div>"
      ],
      "text/plain": [
       "    type  fixed acidity  volatile acidity  citric acid  residual sugar  \\\n",
       "0  white            7.0              0.27         0.36            20.7   \n",
       "1  white            6.3              0.30         0.34             1.6   \n",
       "2  white            8.1              0.28         0.40             6.9   \n",
       "3  white            7.2              0.23         0.32             8.5   \n",
       "6  white            6.2              0.32         0.16             7.0   \n",
       "\n",
       "   chlorides  free sulfur dioxide  total sulfur dioxide  density    pH  \\\n",
       "0      0.045                 45.0                 170.0   1.0010  3.00   \n",
       "1      0.049                 14.0                 132.0   0.9940  3.30   \n",
       "2      0.050                 30.0                  97.0   0.9951  3.26   \n",
       "3      0.058                 47.0                 186.0   0.9956  3.19   \n",
       "6      0.045                 30.0                 136.0   0.9949  3.18   \n",
       "\n",
       "   sulphates  alcohol  quality  \n",
       "0       0.45      8.8        6  \n",
       "1       0.49      9.5        6  \n",
       "2       0.44     10.1        6  \n",
       "3       0.40      9.9        6  \n",
       "6       0.47      9.6        6  "
      ]
     },
     "execution_count": 8,
     "metadata": {},
     "output_type": "execute_result"
    }
   ],
   "source": [
    "df.head()"
   ]
  },
  {
   "cell_type": "code",
   "execution_count": 9,
   "metadata": {},
   "outputs": [
    {
     "data": {
      "text/plain": [
       "Index(['type', 'fixed acidity', 'volatile acidity', 'citric acid',\n",
       "       'residual sugar', 'chlorides', 'free sulfur dioxide',\n",
       "       'total sulfur dioxide', 'density', 'pH', 'sulphates', 'alcohol',\n",
       "       'quality'],\n",
       "      dtype='object')"
      ]
     },
     "execution_count": 9,
     "metadata": {},
     "output_type": "execute_result"
    }
   ],
   "source": [
    "df.columns"
   ]
  },
  {
   "cell_type": "code",
   "execution_count": 10,
   "metadata": {},
   "outputs": [],
   "source": [
    "from sklearn.impute import SimpleImputer\n",
    "imputer = SimpleImputer(strategy='most_frequent', missing_values=np.nan)\n",
    "\n",
    "col_impute = [\"fixed acidity\", \"volatile acidity\", \"citric acid\", 'residual sugar', 'chlorides', 'pH', 'sulphates']\n",
    "\n",
    "for i in col_impute:\n",
    "    df[i] = imputer.fit_transform(df[[i]]).ravel()\n",
    "    \n",
    "\n",
    "\n",
    "\n"
   ]
  },
  {
   "cell_type": "code",
   "execution_count": 11,
   "metadata": {},
   "outputs": [],
   "source": [
    "from sklearn.preprocessing import LabelEncoder\n",
    "lbl_enc = LabelEncoder()\n",
    "df['type'] = lbl_enc.fit_transform(df['type'])\n"
   ]
  },
  {
   "cell_type": "code",
   "execution_count": 12,
   "metadata": {},
   "outputs": [
    {
     "data": {
      "text/html": [
       "<div>\n",
       "<style scoped>\n",
       "    .dataframe tbody tr th:only-of-type {\n",
       "        vertical-align: middle;\n",
       "    }\n",
       "\n",
       "    .dataframe tbody tr th {\n",
       "        vertical-align: top;\n",
       "    }\n",
       "\n",
       "    .dataframe thead th {\n",
       "        text-align: right;\n",
       "    }\n",
       "</style>\n",
       "<table border=\"1\" class=\"dataframe\">\n",
       "  <thead>\n",
       "    <tr style=\"text-align: right;\">\n",
       "      <th></th>\n",
       "      <th>type</th>\n",
       "      <th>fixed acidity</th>\n",
       "      <th>volatile acidity</th>\n",
       "      <th>citric acid</th>\n",
       "      <th>residual sugar</th>\n",
       "      <th>chlorides</th>\n",
       "      <th>free sulfur dioxide</th>\n",
       "      <th>total sulfur dioxide</th>\n",
       "      <th>density</th>\n",
       "      <th>pH</th>\n",
       "      <th>sulphates</th>\n",
       "      <th>alcohol</th>\n",
       "      <th>quality</th>\n",
       "    </tr>\n",
       "  </thead>\n",
       "  <tbody>\n",
       "    <tr>\n",
       "      <th>0</th>\n",
       "      <td>1</td>\n",
       "      <td>7.0</td>\n",
       "      <td>0.27</td>\n",
       "      <td>0.36</td>\n",
       "      <td>20.7</td>\n",
       "      <td>0.045</td>\n",
       "      <td>45.0</td>\n",
       "      <td>170.0</td>\n",
       "      <td>1.0010</td>\n",
       "      <td>3.00</td>\n",
       "      <td>0.45</td>\n",
       "      <td>8.8</td>\n",
       "      <td>6</td>\n",
       "    </tr>\n",
       "    <tr>\n",
       "      <th>1</th>\n",
       "      <td>1</td>\n",
       "      <td>6.3</td>\n",
       "      <td>0.30</td>\n",
       "      <td>0.34</td>\n",
       "      <td>1.6</td>\n",
       "      <td>0.049</td>\n",
       "      <td>14.0</td>\n",
       "      <td>132.0</td>\n",
       "      <td>0.9940</td>\n",
       "      <td>3.30</td>\n",
       "      <td>0.49</td>\n",
       "      <td>9.5</td>\n",
       "      <td>6</td>\n",
       "    </tr>\n",
       "    <tr>\n",
       "      <th>2</th>\n",
       "      <td>1</td>\n",
       "      <td>8.1</td>\n",
       "      <td>0.28</td>\n",
       "      <td>0.40</td>\n",
       "      <td>6.9</td>\n",
       "      <td>0.050</td>\n",
       "      <td>30.0</td>\n",
       "      <td>97.0</td>\n",
       "      <td>0.9951</td>\n",
       "      <td>3.26</td>\n",
       "      <td>0.44</td>\n",
       "      <td>10.1</td>\n",
       "      <td>6</td>\n",
       "    </tr>\n",
       "    <tr>\n",
       "      <th>3</th>\n",
       "      <td>1</td>\n",
       "      <td>7.2</td>\n",
       "      <td>0.23</td>\n",
       "      <td>0.32</td>\n",
       "      <td>8.5</td>\n",
       "      <td>0.058</td>\n",
       "      <td>47.0</td>\n",
       "      <td>186.0</td>\n",
       "      <td>0.9956</td>\n",
       "      <td>3.19</td>\n",
       "      <td>0.40</td>\n",
       "      <td>9.9</td>\n",
       "      <td>6</td>\n",
       "    </tr>\n",
       "    <tr>\n",
       "      <th>6</th>\n",
       "      <td>1</td>\n",
       "      <td>6.2</td>\n",
       "      <td>0.32</td>\n",
       "      <td>0.16</td>\n",
       "      <td>7.0</td>\n",
       "      <td>0.045</td>\n",
       "      <td>30.0</td>\n",
       "      <td>136.0</td>\n",
       "      <td>0.9949</td>\n",
       "      <td>3.18</td>\n",
       "      <td>0.47</td>\n",
       "      <td>9.6</td>\n",
       "      <td>6</td>\n",
       "    </tr>\n",
       "  </tbody>\n",
       "</table>\n",
       "</div>"
      ],
      "text/plain": [
       "   type  fixed acidity  volatile acidity  citric acid  residual sugar  \\\n",
       "0     1            7.0              0.27         0.36            20.7   \n",
       "1     1            6.3              0.30         0.34             1.6   \n",
       "2     1            8.1              0.28         0.40             6.9   \n",
       "3     1            7.2              0.23         0.32             8.5   \n",
       "6     1            6.2              0.32         0.16             7.0   \n",
       "\n",
       "   chlorides  free sulfur dioxide  total sulfur dioxide  density    pH  \\\n",
       "0      0.045                 45.0                 170.0   1.0010  3.00   \n",
       "1      0.049                 14.0                 132.0   0.9940  3.30   \n",
       "2      0.050                 30.0                  97.0   0.9951  3.26   \n",
       "3      0.058                 47.0                 186.0   0.9956  3.19   \n",
       "6      0.045                 30.0                 136.0   0.9949  3.18   \n",
       "\n",
       "   sulphates  alcohol  quality  \n",
       "0       0.45      8.8        6  \n",
       "1       0.49      9.5        6  \n",
       "2       0.44     10.1        6  \n",
       "3       0.40      9.9        6  \n",
       "6       0.47      9.6        6  "
      ]
     },
     "execution_count": 12,
     "metadata": {},
     "output_type": "execute_result"
    }
   ],
   "source": [
    "df.head()"
   ]
  },
  {
   "cell_type": "code",
   "execution_count": 13,
   "metadata": {},
   "outputs": [
    {
     "data": {
      "text/html": [
       "<div>\n",
       "<style scoped>\n",
       "    .dataframe tbody tr th:only-of-type {\n",
       "        vertical-align: middle;\n",
       "    }\n",
       "\n",
       "    .dataframe tbody tr th {\n",
       "        vertical-align: top;\n",
       "    }\n",
       "\n",
       "    .dataframe thead th {\n",
       "        text-align: right;\n",
       "    }\n",
       "</style>\n",
       "<table border=\"1\" class=\"dataframe\">\n",
       "  <thead>\n",
       "    <tr style=\"text-align: right;\">\n",
       "      <th></th>\n",
       "      <th>type</th>\n",
       "      <th>fixed acidity</th>\n",
       "      <th>volatile acidity</th>\n",
       "      <th>citric acid</th>\n",
       "      <th>residual sugar</th>\n",
       "      <th>chlorides</th>\n",
       "      <th>free sulfur dioxide</th>\n",
       "      <th>total sulfur dioxide</th>\n",
       "      <th>density</th>\n",
       "      <th>pH</th>\n",
       "      <th>sulphates</th>\n",
       "      <th>alcohol</th>\n",
       "      <th>quality</th>\n",
       "    </tr>\n",
       "  </thead>\n",
       "  <tbody>\n",
       "    <tr>\n",
       "      <th>type</th>\n",
       "      <td>1.000000</td>\n",
       "      <td>-0.486310</td>\n",
       "      <td>-0.644478</td>\n",
       "      <td>0.183703</td>\n",
       "      <td>0.328597</td>\n",
       "      <td>-0.499735</td>\n",
       "      <td>0.465295</td>\n",
       "      <td>0.694181</td>\n",
       "      <td>-0.428757</td>\n",
       "      <td>-0.310342</td>\n",
       "      <td>-0.489255</td>\n",
       "      <td>0.057334</td>\n",
       "      <td>0.114889</td>\n",
       "    </tr>\n",
       "    <tr>\n",
       "      <th>fixed acidity</th>\n",
       "      <td>-0.486310</td>\n",
       "      <td>1.000000</td>\n",
       "      <td>0.215063</td>\n",
       "      <td>0.329085</td>\n",
       "      <td>-0.104652</td>\n",
       "      <td>0.288898</td>\n",
       "      <td>-0.281588</td>\n",
       "      <td>-0.327327</td>\n",
       "      <td>0.477807</td>\n",
       "      <td>-0.270147</td>\n",
       "      <td>0.305710</td>\n",
       "      <td>-0.102778</td>\n",
       "      <td>-0.080482</td>\n",
       "    </tr>\n",
       "    <tr>\n",
       "      <th>volatile acidity</th>\n",
       "      <td>-0.644478</td>\n",
       "      <td>0.215063</td>\n",
       "      <td>1.000000</td>\n",
       "      <td>-0.383113</td>\n",
       "      <td>-0.163926</td>\n",
       "      <td>0.367330</td>\n",
       "      <td>-0.349337</td>\n",
       "      <td>-0.401499</td>\n",
       "      <td>0.307121</td>\n",
       "      <td>0.245854</td>\n",
       "      <td>0.225871</td>\n",
       "      <td>-0.064840</td>\n",
       "      <td>-0.264307</td>\n",
       "    </tr>\n",
       "    <tr>\n",
       "      <th>citric acid</th>\n",
       "      <td>0.183703</td>\n",
       "      <td>0.329085</td>\n",
       "      <td>-0.383113</td>\n",
       "      <td>1.000000</td>\n",
       "      <td>0.146526</td>\n",
       "      <td>0.054922</td>\n",
       "      <td>0.132147</td>\n",
       "      <td>0.195084</td>\n",
       "      <td>0.094852</td>\n",
       "      <td>-0.343196</td>\n",
       "      <td>0.060445</td>\n",
       "      <td>-0.005557</td>\n",
       "      <td>0.098774</td>\n",
       "    </tr>\n",
       "    <tr>\n",
       "      <th>residual sugar</th>\n",
       "      <td>0.328597</td>\n",
       "      <td>-0.104652</td>\n",
       "      <td>-0.163926</td>\n",
       "      <td>0.146526</td>\n",
       "      <td>1.000000</td>\n",
       "      <td>-0.123314</td>\n",
       "      <td>0.398811</td>\n",
       "      <td>0.487338</td>\n",
       "      <td>0.521661</td>\n",
       "      <td>-0.233905</td>\n",
       "      <td>-0.174800</td>\n",
       "      <td>-0.306092</td>\n",
       "      <td>-0.057503</td>\n",
       "    </tr>\n",
       "    <tr>\n",
       "      <th>chlorides</th>\n",
       "      <td>-0.499735</td>\n",
       "      <td>0.288898</td>\n",
       "      <td>0.367330</td>\n",
       "      <td>0.054922</td>\n",
       "      <td>-0.123314</td>\n",
       "      <td>1.000000</td>\n",
       "      <td>-0.186824</td>\n",
       "      <td>-0.270034</td>\n",
       "      <td>0.371442</td>\n",
       "      <td>0.026535</td>\n",
       "      <td>0.404614</td>\n",
       "      <td>-0.269132</td>\n",
       "      <td>-0.202115</td>\n",
       "    </tr>\n",
       "    <tr>\n",
       "      <th>free sulfur dioxide</th>\n",
       "      <td>0.465295</td>\n",
       "      <td>-0.281588</td>\n",
       "      <td>-0.349337</td>\n",
       "      <td>0.132147</td>\n",
       "      <td>0.398811</td>\n",
       "      <td>-0.186824</td>\n",
       "      <td>1.000000</td>\n",
       "      <td>0.720666</td>\n",
       "      <td>0.006687</td>\n",
       "      <td>-0.141315</td>\n",
       "      <td>-0.198378</td>\n",
       "      <td>-0.170396</td>\n",
       "      <td>0.054456</td>\n",
       "    </tr>\n",
       "    <tr>\n",
       "      <th>total sulfur dioxide</th>\n",
       "      <td>0.694181</td>\n",
       "      <td>-0.327327</td>\n",
       "      <td>-0.401499</td>\n",
       "      <td>0.195084</td>\n",
       "      <td>0.487338</td>\n",
       "      <td>-0.270034</td>\n",
       "      <td>0.720666</td>\n",
       "      <td>1.000000</td>\n",
       "      <td>0.007359</td>\n",
       "      <td>-0.222407</td>\n",
       "      <td>-0.274619</td>\n",
       "      <td>-0.249597</td>\n",
       "      <td>-0.050387</td>\n",
       "    </tr>\n",
       "    <tr>\n",
       "      <th>density</th>\n",
       "      <td>-0.428757</td>\n",
       "      <td>0.477807</td>\n",
       "      <td>0.307121</td>\n",
       "      <td>0.094852</td>\n",
       "      <td>0.521661</td>\n",
       "      <td>0.371442</td>\n",
       "      <td>0.006687</td>\n",
       "      <td>0.007359</td>\n",
       "      <td>1.000000</td>\n",
       "      <td>0.034152</td>\n",
       "      <td>0.282221</td>\n",
       "      <td>-0.668216</td>\n",
       "      <td>-0.326978</td>\n",
       "    </tr>\n",
       "    <tr>\n",
       "      <th>pH</th>\n",
       "      <td>-0.310342</td>\n",
       "      <td>-0.270147</td>\n",
       "      <td>0.245854</td>\n",
       "      <td>-0.343196</td>\n",
       "      <td>-0.233905</td>\n",
       "      <td>0.026535</td>\n",
       "      <td>-0.141315</td>\n",
       "      <td>-0.222407</td>\n",
       "      <td>0.034152</td>\n",
       "      <td>1.000000</td>\n",
       "      <td>0.166237</td>\n",
       "      <td>0.097453</td>\n",
       "      <td>0.039876</td>\n",
       "    </tr>\n",
       "    <tr>\n",
       "      <th>sulphates</th>\n",
       "      <td>-0.489255</td>\n",
       "      <td>0.305710</td>\n",
       "      <td>0.225871</td>\n",
       "      <td>0.060445</td>\n",
       "      <td>-0.174800</td>\n",
       "      <td>0.404614</td>\n",
       "      <td>-0.198378</td>\n",
       "      <td>-0.274619</td>\n",
       "      <td>0.282221</td>\n",
       "      <td>0.166237</td>\n",
       "      <td>1.000000</td>\n",
       "      <td>-0.017893</td>\n",
       "      <td>0.041492</td>\n",
       "    </tr>\n",
       "    <tr>\n",
       "      <th>alcohol</th>\n",
       "      <td>0.057334</td>\n",
       "      <td>-0.102778</td>\n",
       "      <td>-0.064840</td>\n",
       "      <td>-0.005557</td>\n",
       "      <td>-0.306092</td>\n",
       "      <td>-0.269132</td>\n",
       "      <td>-0.170396</td>\n",
       "      <td>-0.249597</td>\n",
       "      <td>-0.668216</td>\n",
       "      <td>0.097453</td>\n",
       "      <td>-0.017893</td>\n",
       "      <td>1.000000</td>\n",
       "      <td>0.469555</td>\n",
       "    </tr>\n",
       "    <tr>\n",
       "      <th>quality</th>\n",
       "      <td>0.114889</td>\n",
       "      <td>-0.080482</td>\n",
       "      <td>-0.264307</td>\n",
       "      <td>0.098774</td>\n",
       "      <td>-0.057503</td>\n",
       "      <td>-0.202115</td>\n",
       "      <td>0.054456</td>\n",
       "      <td>-0.050387</td>\n",
       "      <td>-0.326978</td>\n",
       "      <td>0.039876</td>\n",
       "      <td>0.041492</td>\n",
       "      <td>0.469555</td>\n",
       "      <td>1.000000</td>\n",
       "    </tr>\n",
       "  </tbody>\n",
       "</table>\n",
       "</div>"
      ],
      "text/plain": [
       "                          type  fixed acidity  volatile acidity  citric acid  \\\n",
       "type                  1.000000      -0.486310         -0.644478     0.183703   \n",
       "fixed acidity        -0.486310       1.000000          0.215063     0.329085   \n",
       "volatile acidity     -0.644478       0.215063          1.000000    -0.383113   \n",
       "citric acid           0.183703       0.329085         -0.383113     1.000000   \n",
       "residual sugar        0.328597      -0.104652         -0.163926     0.146526   \n",
       "chlorides            -0.499735       0.288898          0.367330     0.054922   \n",
       "free sulfur dioxide   0.465295      -0.281588         -0.349337     0.132147   \n",
       "total sulfur dioxide  0.694181      -0.327327         -0.401499     0.195084   \n",
       "density              -0.428757       0.477807          0.307121     0.094852   \n",
       "pH                   -0.310342      -0.270147          0.245854    -0.343196   \n",
       "sulphates            -0.489255       0.305710          0.225871     0.060445   \n",
       "alcohol               0.057334      -0.102778         -0.064840    -0.005557   \n",
       "quality               0.114889      -0.080482         -0.264307     0.098774   \n",
       "\n",
       "                      residual sugar  chlorides  free sulfur dioxide  \\\n",
       "type                        0.328597  -0.499735             0.465295   \n",
       "fixed acidity              -0.104652   0.288898            -0.281588   \n",
       "volatile acidity           -0.163926   0.367330            -0.349337   \n",
       "citric acid                 0.146526   0.054922             0.132147   \n",
       "residual sugar              1.000000  -0.123314             0.398811   \n",
       "chlorides                  -0.123314   1.000000            -0.186824   \n",
       "free sulfur dioxide         0.398811  -0.186824             1.000000   \n",
       "total sulfur dioxide        0.487338  -0.270034             0.720666   \n",
       "density                     0.521661   0.371442             0.006687   \n",
       "pH                         -0.233905   0.026535            -0.141315   \n",
       "sulphates                  -0.174800   0.404614            -0.198378   \n",
       "alcohol                    -0.306092  -0.269132            -0.170396   \n",
       "quality                    -0.057503  -0.202115             0.054456   \n",
       "\n",
       "                      total sulfur dioxide   density        pH  sulphates  \\\n",
       "type                              0.694181 -0.428757 -0.310342  -0.489255   \n",
       "fixed acidity                    -0.327327  0.477807 -0.270147   0.305710   \n",
       "volatile acidity                 -0.401499  0.307121  0.245854   0.225871   \n",
       "citric acid                       0.195084  0.094852 -0.343196   0.060445   \n",
       "residual sugar                    0.487338  0.521661 -0.233905  -0.174800   \n",
       "chlorides                        -0.270034  0.371442  0.026535   0.404614   \n",
       "free sulfur dioxide               0.720666  0.006687 -0.141315  -0.198378   \n",
       "total sulfur dioxide              1.000000  0.007359 -0.222407  -0.274619   \n",
       "density                           0.007359  1.000000  0.034152   0.282221   \n",
       "pH                               -0.222407  0.034152  1.000000   0.166237   \n",
       "sulphates                        -0.274619  0.282221  0.166237   1.000000   \n",
       "alcohol                          -0.249597 -0.668216  0.097453  -0.017893   \n",
       "quality                          -0.050387 -0.326978  0.039876   0.041492   \n",
       "\n",
       "                       alcohol   quality  \n",
       "type                  0.057334  0.114889  \n",
       "fixed acidity        -0.102778 -0.080482  \n",
       "volatile acidity     -0.064840 -0.264307  \n",
       "citric acid          -0.005557  0.098774  \n",
       "residual sugar       -0.306092 -0.057503  \n",
       "chlorides            -0.269132 -0.202115  \n",
       "free sulfur dioxide  -0.170396  0.054456  \n",
       "total sulfur dioxide -0.249597 -0.050387  \n",
       "density              -0.668216 -0.326978  \n",
       "pH                    0.097453  0.039876  \n",
       "sulphates            -0.017893  0.041492  \n",
       "alcohol               1.000000  0.469555  \n",
       "quality               0.469555  1.000000  "
      ]
     },
     "execution_count": 13,
     "metadata": {},
     "output_type": "execute_result"
    }
   ],
   "source": [
    "df.corr()"
   ]
  },
  {
   "cell_type": "code",
   "execution_count": 14,
   "metadata": {},
   "outputs": [],
   "source": [
    "df = df.drop([\"fixed acidity\", \"volatile acidity\", \"chlorides\", \"density\", \"pH\", \"sulphates\"], axis=1)"
   ]
  },
  {
   "cell_type": "code",
   "execution_count": 15,
   "metadata": {},
   "outputs": [
    {
     "data": {
      "text/plain": [
       "<Axes: >"
      ]
     },
     "execution_count": 15,
     "metadata": {},
     "output_type": "execute_result"
    },
    {
     "data": {
      "image/png": "[encoded data removed]",
      "text/plain": [
       "<Figure size 640x480 with 1 Axes>"
      ]
     },
     "metadata": {},
     "output_type": "display_data"
    }
   ],
   "source": [
    "sns.boxplot(df)\n"
   ]
  },
  {
   "cell_type": "code",
   "execution_count": 16,
   "metadata": {},
   "outputs": [
    {
     "data": {
      "text/plain": [
       "Index(['type', 'citric acid', 'residual sugar', 'free sulfur dioxide',\n",
       "       'total sulfur dioxide', 'alcohol', 'quality'],\n",
       "      dtype='object')"
      ]
     },
     "execution_count": 16,
     "metadata": {},
     "output_type": "execute_result"
    }
   ],
   "source": [
    "df.columns"
   ]
  },
  {
   "cell_type": "code",
   "execution_count": 17,
   "metadata": {},
   "outputs": [],
   "source": [
    "Q1 = df.quantile(0.25)\n",
    "Q3 = df.quantile(0.75)\n",
    "\n",
    "IQR = Q3 - Q1\n",
    "\n",
    "outliers = ((df<(Q1-1.5*IQR))| df>(Q3+1.5*IQR)).any(axis=1)\n",
    "\n",
    "df_no_outliers = df[~outliers]"
   ]
  },
  {
   "cell_type": "code",
   "execution_count": 18,
   "metadata": {},
   "outputs": [
    {
     "data": {
      "text/plain": [
       "<Axes: >"
      ]
     },
     "execution_count": 18,
     "metadata": {},
     "output_type": "execute_result"
    },
    {
     "data": {
      "image/png": "[encoded data removed]",
      "text/plain": [
       "<Figure size 640x480 with 1 Axes>"
      ]
     },
     "metadata": {},
     "output_type": "display_data"
    }
   ],
   "source": [
    "sns.boxplot(df_no_outliers)"
   ]
  },
  {
   "cell_type": "code",
   "execution_count": 19,
   "metadata": {},
   "outputs": [],
   "source": [
    "X = df.drop(\"type\", axis=1)\n",
    "y = df[\"type\"]"
   ]
  },
  {
   "cell_type": "code",
   "execution_count": 20,
   "metadata": {},
   "outputs": [
    {
     "name": "stdout",
     "output_type": "stream",
     "text": [
      "(4263, 6) (1066, 6)\n",
      "(4263,) (1066,)\n"
     ]
    }
   ],
   "source": [
    "from sklearn.model_selection import train_test_split\n",
    "\n",
    "Xtrain, Xtest, ytrain, ytest = train_test_split(X, y , test_size=0.2,random_state=0)\n",
    "\n",
    "print(Xtrain.shape, Xtest.shape)\n",
    "print(ytrain.shape, ytest.shape)"
   ]
  },
  {
   "cell_type": "code",
   "execution_count": 21,
   "metadata": {},
   "outputs": [],
   "source": [
    "#Scale the Data\n",
    "\n",
    "from sklearn.preprocessing import StandardScaler\n",
    "\n",
    "scaler = StandardScaler()\n",
    "\n",
    "Xtrain_std = scaler.fit_transform(Xtrain)\n",
    "Xtest_std = scaler.transform(Xtest)\n"
   ]
  },
  {
   "cell_type": "markdown",
   "metadata": {},
   "source": [
    "class sklearn.neighbors.KNeighborsClassifier(n_neighbors=5, *, weights='uniform', algorithm='auto', leaf_size=30, p=2, metric='minkowski', metric_params=None, n_jobs=None)"
   ]
  },
  {
   "cell_type": "code",
   "execution_count": 22,
   "metadata": {},
   "outputs": [
    {
     "data": {
      "text/plain": [
       "citric acid             0\n",
       "residual sugar          0\n",
       "free sulfur dioxide     0\n",
       "total sulfur dioxide    0\n",
       "alcohol                 0\n",
       "quality                 0\n",
       "dtype: int64"
      ]
     },
     "execution_count": 22,
     "metadata": {},
     "output_type": "execute_result"
    }
   ],
   "source": [
    "X.isna().sum()"
   ]
  },
  {
   "cell_type": "code",
   "execution_count": 23,
   "metadata": {},
   "outputs": [
    {
     "name": "stdout",
     "output_type": "stream",
     "text": [
      "Neighbours:  1\n",
      "Training accuracy:  0.9995308468214872\n",
      "Testing Accuracy:  0.9390243902439024\n",
      "Accuracy Score:  0.9390243902439024\n",
      "Neighbours:  2\n",
      "Training accuracy:  0.9673938540933614\n",
      "Testing Accuracy:  0.924015009380863\n",
      "Accuracy Score:  0.924015009380863\n",
      "Neighbours:  3\n",
      "Training accuracy:  0.9643443584330283\n",
      "Testing Accuracy:  0.948405253283302\n",
      "Accuracy Score:  0.948405253283302\n",
      "Neighbours:  4\n",
      "Training accuracy:  0.956368754398311\n",
      "Testing Accuracy:  0.9409005628517824\n",
      "Accuracy Score:  0.9409005628517824\n",
      "Neighbours:  5\n",
      "Training accuracy:  0.9573070607553367\n",
      "Testing Accuracy:  0.948405253283302\n",
      "Accuracy Score:  0.948405253283302\n",
      "Neighbours:  6\n",
      "Training accuracy:  0.9537884119164908\n",
      "Testing Accuracy:  0.9446529080675422\n",
      "Accuracy Score:  0.9446529080675422\n",
      "Neighbours:  7\n",
      "Training accuracy:  0.9556650246305419\n",
      "Testing Accuracy:  0.9455909943714822\n",
      "Accuracy Score:  0.9455909943714822\n",
      "Neighbours:  8\n",
      "Training accuracy:  0.952146375791696\n",
      "Testing Accuracy:  0.9418386491557224\n",
      "Accuracy Score:  0.9418386491557224\n",
      "Neighbours:  9\n",
      "Training accuracy:  0.9528501055594651\n",
      "Testing Accuracy:  0.948405253283302\n",
      "Accuracy Score:  0.948405253283302\n",
      "Neighbours:  10\n",
      "Training accuracy:  0.9516772226131832\n",
      "Testing Accuracy:  0.9409005628517824\n",
      "Accuracy Score:  0.9409005628517824\n",
      "Neighbours:  11\n",
      "Training accuracy:  0.9505043396669013\n",
      "Testing Accuracy:  0.9455909943714822\n",
      "Accuracy Score:  0.9455909943714822\n",
      "Neighbours:  12\n",
      "Training accuracy:  0.9474548440065681\n",
      "Testing Accuracy:  0.9437148217636022\n",
      "Accuracy Score:  0.9437148217636022\n",
      "Neighbours:  13\n",
      "Training accuracy:  0.9498006098991321\n",
      "Testing Accuracy:  0.9446529080675422\n",
      "Accuracy Score:  0.9446529080675422\n",
      "Neighbours:  14\n",
      "Training accuracy:  0.9486277269528501\n",
      "Testing Accuracy:  0.9409005628517824\n",
      "Accuracy Score:  0.9409005628517824\n"
     ]
    }
   ],
   "source": [
    "from sklearn.neighbors import KNeighborsClassifier\n",
    "from sklearn.metrics import accuracy_score\n",
    "#neigh = KNeighborsClassifier(n_neighbors=3)\n",
    "\n",
    "train_acc = np.zeros(15)\n",
    "test_acc = np.zeros(15)\n",
    "\n",
    "for i in range(1,15):\n",
    "    print(\"Neighbours: \", i)\n",
    "    neigh = KNeighborsClassifier(n_neighbors=i)\n",
    "    neigh.fit(Xtrain_std, ytrain)\n",
    "    train_acc[i] = neigh.score(Xtrain_std, ytrain)\n",
    "    test_acc[i] = neigh.score(Xtest_std, ytest)\n",
    "    print(\"Training accuracy: \", neigh.score(Xtrain_std, ytrain))\n",
    "    print(\"Testing Accuracy: \", neigh.score(Xtest_std, ytest))\n",
    "    ypred = neigh.predict(Xtest_std)\n",
    "    print(\"Accuracy Score: \", accuracy_score(ytest, ypred))"
   ]
  },
  {
   "cell_type": "code",
   "execution_count": 24,
   "metadata": {},
   "outputs": [
    {
     "name": "stdout",
     "output_type": "stream",
     "text": [
      "[0.         0.93902439 0.92401501 0.94840525 0.94090056 0.94840525\n",
      " 0.94465291 0.94559099 0.94183865 0.94840525 0.94090056 0.94559099\n",
      " 0.94371482 0.94465291 0.94090056]\n",
      "[0.         0.99953085 0.96739385 0.96434436 0.95636875 0.95730706\n",
      " 0.95378841 0.95566502 0.95214638 0.95285011 0.95167722 0.95050434\n",
      " 0.94745484 0.94980061 0.94862773]\n"
     ]
    }
   ],
   "source": [
    "print(test_acc)\n",
    "print(train_acc)"
   ]
  },
  {
   "cell_type": "code",
   "execution_count": 25,
   "metadata": {},
   "outputs": [
    {
     "data": {
      "image/png": "[encoded data removed]",
      "text/plain": [
       "<Figure size 640x480 with 1 Axes>"
      ]
     },
     "metadata": {},
     "output_type": "display_data"
    }
   ],
   "source": [
    "plt.title('k-NN: Varying Number of Neighbors')\n",
    "plt.plot(range(1,16), test_acc, label='Training Accuracy')\n",
    "plt.plot(range(1,16), train_acc, label = \"Testing Accuracy\")\n",
    "plt.legend()\n",
    "plt.xlabel('Number of Neighbors')\n",
    "plt.ylabel('Accuracy')\n",
    "plt.show()\n"
   ]
  },
  {
   "cell_type": "markdown",
   "metadata": {},
   "source": [
    "BEST K NEIGHBOURS = 4\n",
    "\n",
    "class sklearn.neighbors.KNeighborsClassifier(n_neighbors=5, *, weights='uniform', algorithm='auto', leaf_size=30, p=2, metric='minkowski', metric_params=None, n_jobs=None)\n",
    "\n",
    "Parameters:\n",
    "n_neighborsint, default=5\n",
    "Number of neighbors to use by default for kneighbors queries.\n",
    "\n",
    "weights{‘uniform’, ‘distance’}, callable or None, default=’uniform’\n",
    "Weight function used in prediction. Possible values:\n",
    "\n",
    "‘uniform’ : uniform weights. All points in each neighborhood are weighted equally.\n",
    "\n",
    "‘distance’ : weight points by the inverse of their distance. in this case, closer neighbors of a query point will have a greater influence than neighbors which are further away.\n",
    "\n",
    "[callable] : a user-defined function which accepts an array of distances, and returns an array of the same shape containing the weights.\n",
    "\n",
    "Refer to the example entitled Nearest Neighbors Classification showing the impact of the weights parameter on the decision boundary.\n",
    "\n",
    "algorithm{‘auto’, ‘ball_tree’, ‘kd_tree’, ‘brute’}, default=’auto’\n",
    "Algorithm used to compute the nearest neighbors:\n",
    "\n",
    "‘ball_tree’ will use BallTree\n",
    "\n",
    "‘kd_tree’ will use KDTree\n",
    "\n",
    "‘brute’ will use a brute-force search.\n",
    "\n",
    "‘auto’ will attempt to decide the most appropriate algorithm based on the values passed to fit method.\n",
    "\n",
    "\n"
   ]
  },
  {
   "cell_type": "code",
   "execution_count": 26,
   "metadata": {},
   "outputs": [
    {
     "name": "stdout",
     "output_type": "stream",
     "text": [
      "WEIGHT:  uniform\n",
      "Algorith used:  auto\n",
      "Training accuracy:  0.956368754398311\n",
      "Testing Accuracy:  0.9409005628517824\n",
      "\n",
      "Algorith used:  ball_tree\n",
      "Training accuracy:  0.956368754398311\n",
      "Testing Accuracy:  0.9409005628517824\n",
      "\n",
      "Algorith used:  kd_tree\n",
      "Training accuracy:  0.956368754398311\n",
      "Testing Accuracy:  0.9409005628517824\n",
      "\n",
      "Algorith used:  brute\n",
      "Training accuracy:  0.956368754398311\n",
      "Testing Accuracy:  0.9409005628517824\n",
      "\n",
      "WEIGHT:  distance\n",
      "Algorith used:  auto\n",
      "Training accuracy:  0.9995308468214872\n",
      "Testing Accuracy:  0.9521575984990619\n",
      "\n",
      "Algorith used:  ball_tree\n",
      "Training accuracy:  0.9995308468214872\n",
      "Testing Accuracy:  0.9521575984990619\n",
      "\n",
      "Algorith used:  kd_tree\n",
      "Training accuracy:  0.9995308468214872\n",
      "Testing Accuracy:  0.9521575984990619\n",
      "\n",
      "Algorith used:  brute\n",
      "Training accuracy:  0.9995308468214872\n",
      "Testing Accuracy:  0.9521575984990619\n",
      "\n"
     ]
    }
   ],
   "source": [
    "algo = ['auto', 'ball_tree', 'kd_tree', 'brute']\n",
    "weights = ['uniform', 'distance']\n",
    "\n",
    "for i in weights:\n",
    "    print(\"WEIGHT: \", i)\n",
    "\n",
    "    for j in algo:\n",
    "        print(\"Algorith used: \", j)\n",
    "        knn = KNeighborsClassifier(n_neighbors=4, algorithm=j, weights=i)\n",
    "        knn.fit(Xtrain_std, ytrain)\n",
    "        print(\"Training accuracy: \", knn.score(Xtrain_std, ytrain))\n",
    "        print(\"Testing Accuracy: \", knn.score(Xtest_std, ytest))\n",
    "        print()\n"
   ]
  },
  {
   "cell_type": "code",
   "execution_count": 27,
   "metadata": {},
   "outputs": [
    {
     "name": "stdout",
     "output_type": "stream",
     "text": [
      "[[249  24]\n",
      " [ 39 754]]\n"
     ]
    }
   ],
   "source": [
    "from sklearn.metrics import classification_report, confusion_matrix\n",
    "knn = KNeighborsClassifier(n_neighbors=4, algorithm=\"auto\", weights=\"uniform\")\n",
    "knn.fit(Xtrain_std, ytrain)\n",
    "y_pred = knn.predict(Xtest_std)\n",
    "cm = confusion_matrix(ytest, y_pred)\n",
    "print(cm)"
   ]
  },
  {
   "cell_type": "code",
   "execution_count": 28,
   "metadata": {},
   "outputs": [
    {
     "name": "stdout",
     "output_type": "stream",
     "text": [
      "              precision    recall  f1-score   support\n",
      "\n",
      "           0       0.86      0.91      0.89       273\n",
      "           1       0.97      0.95      0.96       793\n",
      "\n",
      "    accuracy                           0.94      1066\n",
      "   macro avg       0.92      0.93      0.92      1066\n",
      "weighted avg       0.94      0.94      0.94      1066\n",
      "\n"
     ]
    }
   ],
   "source": [
    "cr = classification_report(ytest, y_pred)\n",
    "print(cr)"
   ]
  },
  {
   "cell_type": "code",
   "execution_count": 29,
   "metadata": {},
   "outputs": [
    {
     "data": {
      "text/plain": [
       "<sklearn.metrics._plot.confusion_matrix.ConfusionMatrixDisplay at 0x1e53be90e80>"
      ]
     },
     "execution_count": 29,
     "metadata": {},
     "output_type": "execute_result"
    },
    {
     "data": {
      "image/png": "[encoded data removed]",
      "text/plain": [
       "<Figure size 640x480 with 2 Axes>"
      ]
     },
     "metadata": {},
     "output_type": "display_data"
    }
   ],
   "source": [
    "from sklearn.metrics import ConfusionMatrixDisplay\n",
    "\n",
    "disp = ConfusionMatrixDisplay(cm)\n",
    "disp.plot()"
   ]
  }
 ],
 "metadata": {
  "kernelspec": {
   "display_name": "ml_lab",
   "language": "python",
   "name": "python3"
  },
  "language_info": {
   "codemirror_mode": {
    "name": "ipython",
    "version": 3
   },
   "file_extension": ".py",
   "mimetype": "text/x-python",
   "name": "python",
   "nbconvert_exporter": "python",
   "pygments_lexer": "ipython3",
   "version": "3.10.13"
  }
 },
 "nbformat": 4,
 "nbformat_minor": 2
}
