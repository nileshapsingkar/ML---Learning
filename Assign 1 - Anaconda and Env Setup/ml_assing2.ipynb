{
 "cells": [
  {
   "cell_type": "code",
   "execution_count": 3,
   "metadata": {},
   "outputs": [],
   "source": [
    "import numpy as np "
   ]
  },
  {
   "cell_type": "code",
   "execution_count": 2,
   "metadata": {},
   "outputs": [
    {
     "name": "stdout",
     "output_type": "stream",
     "text": [
      "1.26.3\n"
     ]
    }
   ],
   "source": [
    "print(np.__version__)"
   ]
  },
  {
   "cell_type": "code",
   "execution_count": 36,
   "metadata": {},
   "outputs": [],
   "source": [
    "test = np.array([1,2,3,4,5])\n",
    "test1 = np.array([(1,2,3), (4,5,6)])"
   ]
  },
  {
   "cell_type": "code",
   "execution_count": 10,
   "metadata": {},
   "outputs": [
    {
     "name": "stdout",
     "output_type": "stream",
     "text": [
      "[1 2 3 4 5]\n",
      "[[1 2 3]\n",
      " [4 5 6]]\n"
     ]
    }
   ],
   "source": [
    "print(test)\n",
    "print(test1)"
   ]
  },
  {
   "cell_type": "code",
   "execution_count": 21,
   "metadata": {},
   "outputs": [
    {
     "name": "stdout",
     "output_type": "stream",
     "text": [
      "shape of the array: (5,)\n",
      "length of the array:  5\n",
      "dimensions of the array:  1\n",
      "data type of array a:  float64\n"
     ]
    }
   ],
   "source": [
    "print(\"shape of the array:\", test.shape)\n",
    "print(\"length of the array: \", len(test))\n",
    "print(\"dimensions of the array: \", test.ndim)\n",
    "print(\"data type of array a: \", test.dtype)"
   ]
  },
  {
   "cell_type": "code",
   "execution_count": 22,
   "metadata": {},
   "outputs": [
    {
     "name": "stdout",
     "output_type": "stream",
     "text": [
      "shape of the array: (2, 3)\n",
      "length of the array:  2\n",
      "dimensions of the array:  2\n",
      "data type of array a:  int32\n"
     ]
    }
   ],
   "source": [
    "print(\"shape of the array:\", test1.shape)\n",
    "print(\"length of the array: \", len(test1))\n",
    "print(\"dimensions of the array: \", test1.ndim)\n",
    "print(\"data type of array a: \", test1.dtype)"
   ]
  },
  {
   "cell_type": "code",
   "execution_count": 23,
   "metadata": {},
   "outputs": [
    {
     "name": "stdout",
     "output_type": "stream",
     "text": [
      "[1 2 3 4 5]\n"
     ]
    }
   ],
   "source": [
    "c = test.astype(int)#convert array into other datatype\n",
    "print(c)"
   ]
  },
  {
   "cell_type": "code",
   "execution_count": 27,
   "metadata": {},
   "outputs": [
    {
     "name": "stdout",
     "output_type": "stream",
     "text": [
      "[[[ 1  2  3]\n",
      "  [ 4  5  6]]\n",
      "\n",
      " [[ 7  8  9]\n",
      "  [10 11 12]]]\n",
      "shape of the array: (2, 2, 3)\n",
      "length of the array:  2\n",
      "dimensions of the array:  3\n",
      "data type of array a:  int32\n"
     ]
    }
   ],
   "source": [
    "d = np.array([[(1,2,3), (4,5,6)], [(7,8,9), (10,11,12)]])\n",
    "print(d)\n",
    "print(\"shape of the array:\", d.shape)\n",
    "print(\"length of the array: \", len(d))\n",
    "print(\"dimensions of the array: \", d.ndim)\n",
    "print(\"data type of array a: \", d.dtype)"
   ]
  },
  {
   "cell_type": "code",
   "execution_count": 13,
   "metadata": {},
   "outputs": [
    {
     "name": "stdout",
     "output_type": "stream",
     "text": [
      "[[0. 0. 0. 0.]\n",
      " [0. 0. 0. 0.]\n",
      " [0. 0. 0. 0.]]\n",
      "[[1. 1. 1. 1.]\n",
      " [1. 1. 1. 1.]\n",
      " [1. 1. 1. 1.]]\n",
      "[10 12 14 16 18 20 22 24]\n",
      "[0.   0.25 0.5  0.75 1.   1.25 1.5  1.75 2.  ]\n",
      "[[0.97466918 0.94023064 0.51741172]\n",
      " [0.38217297 0.42256136 0.00248236]]\n",
      "[[2.54639495e-313 3.39519327e-313]\n",
      " [4.24399158e-313 5.09278990e-313]]\n",
      "[[1. 0. 0.]\n",
      " [0. 1. 0.]\n",
      " [0. 0. 1.]]\n"
     ]
    }
   ],
   "source": [
    "t1 = np.zeros((3,4))\n",
    "print(t1)\n",
    "t2 = np.ones((3,4))\n",
    "print(t2)\n",
    "f = np.arange(10,25,2)\n",
    "print(f)\n",
    "h = np.linspace(0,2,9) # equal distance from each element from 1 to 2\n",
    "print(h)\n",
    "r = np.random.random((2,3))\n",
    "print(r)\n",
    "e = np.empty((2,2))\n",
    "print(e)\n",
    "i = np.eye(3)\n",
    "print(i)"
   ]
  },
  {
   "cell_type": "code",
   "execution_count": 19,
   "metadata": {},
   "outputs": [
    {
     "name": "stdout",
     "output_type": "stream",
     "text": [
      "[1.6 2.  3.  4.  5. ]\n"
     ]
    }
   ],
   "source": [
    "#loading and saving array\n",
    "np.save(\"D:\\MIT ADT\\Third Year Sem - 2\\ML LAB\\my_array\", test)\n",
    "\n",
    "temp = np.load(\"D:\\MIT ADT\\Third Year Sem - 2\\ML LAB\\my_array.npy\")\n",
    "print(temp)"
   ]
  },
  {
   "cell_type": "code",
   "execution_count": 37,
   "metadata": {},
   "outputs": [
    {
     "name": "stdout",
     "output_type": "stream",
     "text": [
      "1.6\n",
      "5.0\n",
      "[[1 2 3]\n",
      " [4 5 6]]\n",
      "test 1 - 0:  [4 5 6]\n",
      "test 1 - 1:  [3 6]\n",
      "3.0\n",
      "1.4142135623730951\n",
      "[[1 4]\n",
      " [2 5]\n",
      " [3 6]]\n"
     ]
    }
   ],
   "source": [
    "temp.sum()\n",
    "print(temp.min())\n",
    "\n",
    "print(temp.max(axis=0))\n",
    "print(test1)\n",
    "print(\"test 1 - 0: \", test1.max(axis=0))\n",
    "print(\"test 1 - 1: \", test1.max(axis=1))\n",
    "\n",
    "print(np.median(test))\n",
    "print(np.std(test))\n",
    "\n",
    "print(np.transpose(test1))"
   ]
  },
  {
   "cell_type": "code",
   "execution_count": 34,
   "metadata": {},
   "outputs": [
    {
     "data": {
      "text/plain": [
       "array([3, 4, 5])"
      ]
     },
     "execution_count": 34,
     "metadata": {},
     "output_type": "execute_result"
    }
   ],
   "source": [
    "test[2:]"
   ]
  },
  {
   "cell_type": "code",
   "execution_count": 43,
   "metadata": {},
   "outputs": [
    {
     "name": "stdout",
     "output_type": "stream",
     "text": [
      "[1 2 3 4 5 6]\n",
      "[[1 2 3]\n",
      " [4 5 6]]\n"
     ]
    }
   ],
   "source": [
    "k =  (test1.ravel()) #more dimension to 1d flattning of the matrix\n",
    "print(k)\n",
    "\n",
    "r = k.reshape(2,3)# should be proportion\n",
    "print(r)"
   ]
  },
  {
   "cell_type": "code",
   "execution_count": 59,
   "metadata": {},
   "outputs": [
    {
     "name": "stdout",
     "output_type": "stream",
     "text": [
      "[1 2]\n",
      "[1 2 3 4 5 8]\n",
      "[1 2 5 3 4 5]\n",
      "[1 2 4 5]\n",
      "55\n"
     ]
    }
   ],
   "source": [
    "my_array = np.array([1,2,3,4,5])\n",
    "z = (np.resize(my_array,2))\n",
    "print(z)\n",
    "\n",
    "print(np.append(my_array, 8))\n",
    "\n",
    "print(np.insert(my_array,[2], 5))\n",
    "\n",
    "print(np.delete(my_array,[2]))\n",
    "\n",
    "print(np.dot(test, test))\n"
   ]
  },
  {
   "cell_type": "code",
   "execution_count": null,
   "metadata": {},
   "outputs": [],
   "source": []
  }
 ],
 "metadata": {
  "kernelspec": {
   "display_name": "mllab",
   "language": "python",
   "name": "python3"
  },
  "language_info": {
   "codemirror_mode": {
    "name": "ipython",
    "version": 3
   },
   "file_extension": ".py",
   "mimetype": "text/x-python",
   "name": "python",
   "nbconvert_exporter": "python",
   "pygments_lexer": "ipython3",
   "version": "3.10.13"
  }
 },
 "nbformat": 4,
 "nbformat_minor": 2
}
